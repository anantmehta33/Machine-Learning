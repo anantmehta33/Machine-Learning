{
 "cells": [
  {
   "cell_type": "code",
   "execution_count": 64,
   "id": "88fef874",
   "metadata": {},
   "outputs": [],
   "source": [
    "import numpy as np\n",
    "import pandas as pd"
   ]
  },
  {
   "cell_type": "code",
   "execution_count": 65,
   "id": "093c6b7f",
   "metadata": {},
   "outputs": [],
   "source": [
    "data=np.loadtxt(\"data.csv\",delimiter=\",\")"
   ]
  },
  {
   "cell_type": "code",
   "execution_count": 66,
   "id": "6a90bd04",
   "metadata": {},
   "outputs": [],
   "source": [
    "\n",
    "learning_rate=0.0001\n",
    "num_iterations=10"
   ]
  },
  {
   "cell_type": "code",
   "execution_count": 67,
   "id": "5c54ede7",
   "metadata": {},
   "outputs": [],
   "source": [
    "def step_gradient(points,alpha,m,c):\n",
    "    m_slope=0\n",
    "    c_slope=0\n",
    "    M=len(points)\n",
    "    for i in range(M):\n",
    "        x=points[i,0]\n",
    "        y=points[i,1]\n",
    "        m_slope+=(-2/M)*(y-m*x-c)*x\n",
    "        c_slope+=(-2/M)*(y-m*x-c)\n",
    "    new_m=m-alpha*m_slope\n",
    "    new_c=c-alpha*c_slope\n",
    "    return new_m,new_c"
   ]
  },
  {
   "cell_type": "code",
   "execution_count": 68,
   "id": "a295a5f8",
   "metadata": {},
   "outputs": [],
   "source": [
    "def costfunc(points,m,c):\n",
    "    cost=0\n",
    "    M=len(points)\n",
    "    for i in range(M):\n",
    "        x=points[i,0]\n",
    "        y=points[i,1]\n",
    "        cost=cost+((y-m*x-c)**2)\n",
    "    return cost/M"
   ]
  },
  {
   "cell_type": "code",
   "execution_count": 69,
   "id": "105e5464",
   "metadata": {},
   "outputs": [],
   "source": [
    "def gd(points,alpha,itr):\n",
    "    m=0\n",
    "    c=0\n",
    "    for i in range(itr):\n",
    "        m,c=step_gradient(points,alpha,m,c)\n",
    "        print(\"cost is \",costfunc(points,m,c))\n",
    "    return m,c\n",
    "    "
   ]
  },
  {
   "cell_type": "code",
   "execution_count": 70,
   "id": "8661435d",
   "metadata": {},
   "outputs": [
    {
     "name": "stdout",
     "output_type": "stream",
     "text": [
      "cost is  1484.5865574086486\n",
      "cost is  457.85425757376737\n",
      "cost is  199.5099857255389\n",
      "cost is  134.50591058200533\n",
      "cost is  118.14969342239948\n",
      "cost is  114.03414906038148\n",
      "cost is  112.99857731713661\n",
      "cost is  112.73798187568467\n",
      "cost is  112.67238435909101\n",
      "cost is  112.65585181499748\n",
      "1.47741737554838 0.029639347874732384\n"
     ]
    }
   ],
   "source": [
    "m,c=gd(data,learning_rate,num_iterations)\n",
    "print(m,c)"
   ]
  },
  {
   "cell_type": "code",
   "execution_count": null,
   "id": "25d4787a",
   "metadata": {},
   "outputs": [],
   "source": []
  },
  {
   "cell_type": "code",
   "execution_count": null,
   "id": "323024a2",
   "metadata": {},
   "outputs": [],
   "source": []
  },
  {
   "cell_type": "code",
   "execution_count": null,
   "id": "2718a8a1",
   "metadata": {},
   "outputs": [],
   "source": []
  }
 ],
 "metadata": {
  "kernelspec": {
   "display_name": "Python 3",
   "language": "python",
   "name": "python3"
  },
  "language_info": {
   "codemirror_mode": {
    "name": "ipython",
    "version": 3
   },
   "file_extension": ".py",
   "mimetype": "text/x-python",
   "name": "python",
   "nbconvert_exporter": "python",
   "pygments_lexer": "ipython3",
   "version": "3.8.8"
  }
 },
 "nbformat": 4,
 "nbformat_minor": 5
}
