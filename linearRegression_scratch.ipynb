{
 "cells": [
  {
   "cell_type": "code",
   "execution_count": 68,
   "id": "173267b7",
   "metadata": {},
   "outputs": [],
   "source": [
    "import numpy as np\n",
    "import pandas as pd"
   ]
  },
  {
   "cell_type": "code",
   "execution_count": 69,
   "id": "e3a2d2ce",
   "metadata": {},
   "outputs": [],
   "source": [
    "def fit(x,y):\n",
    "    m=( (x*y).mean()-x.mean()*y.mean() )/( (x**2).mean() -x.mean()*x.mean() )\n",
    "    c=y.mean()-m*x.mean()\n",
    "    return m,c"
   ]
  },
  {
   "cell_type": "code",
   "execution_count": 70,
   "id": "d0d223dd",
   "metadata": {},
   "outputs": [],
   "source": [
    "def predict(x,m,c):\n",
    "    y_pred=m*x+c\n",
    "    return y_pred"
   ]
  },
  {
   "cell_type": "code",
   "execution_count": 71,
   "id": "c0d797fb",
   "metadata": {},
   "outputs": [],
   "source": [
    "def cd(y_p,y_t):\n",
    "    u=((y_t-y_p)**2).sum()\n",
    "    v=((y_t-y_t.mean())**2).sum()\n",
    "    score = 1-u/v\n",
    "    print(\"score is\",score)\n",
    "    "
   ]
  },
  {
   "cell_type": "code",
   "execution_count": 72,
   "id": "143efd9c",
   "metadata": {},
   "outputs": [],
   "source": [
    "def cost_func(x,y,m,c):\n",
    "    error=((y-m*x-c)**2).mean()#mean for average cost for the training data\n",
    "    return error"
   ]
  },
  {
   "cell_type": "code",
   "execution_count": null,
   "id": "20e2747d",
   "metadata": {},
   "outputs": [],
   "source": []
  },
  {
   "cell_type": "code",
   "execution_count": 73,
   "id": "fb8a001c",
   "metadata": {},
   "outputs": [
    {
     "data": {
      "text/plain": [
       "(100, 2)"
      ]
     },
     "execution_count": 73,
     "metadata": {},
     "output_type": "execute_result"
    }
   ],
   "source": [
    "data=np.loadtxt(\"data.csv\",delimiter=\",\")\n",
    "data.shape"
   ]
  },
  {
   "cell_type": "code",
   "execution_count": 74,
   "id": "748254bc",
   "metadata": {},
   "outputs": [],
   "source": [
    "X=data[:,0]\n",
    "Y=data[:,1]"
   ]
  },
  {
   "cell_type": "code",
   "execution_count": 75,
   "id": "3599a3ac",
   "metadata": {},
   "outputs": [],
   "source": [
    "from sklearn import model_selection\n",
    "X_train,X_test,Y_train,Y_test=model_selection.train_test_split(X,Y)"
   ]
  },
  {
   "cell_type": "code",
   "execution_count": null,
   "id": "283c3402",
   "metadata": {},
   "outputs": [],
   "source": []
  },
  {
   "cell_type": "code",
   "execution_count": 76,
   "id": "8e8c2f68",
   "metadata": {},
   "outputs": [],
   "source": [
    "import matplotlib.pyplot as plt"
   ]
  },
  {
   "cell_type": "code",
   "execution_count": 77,
   "id": "5cff5f8c",
   "metadata": {},
   "outputs": [
    {
     "name": "stdout",
     "output_type": "stream",
     "text": [
      "1.2642224670162443 10.1918515092922\n",
      "score is 0.6373355501800859\n",
      "90.80243214685184\n"
     ]
    },
    {
     "data": {
      "image/png": "[encoded data removed]",
      "text/plain": [
       "<Figure size 432x288 with 1 Axes>"
      ]
     },
     "metadata": {
      "needs_background": "light"
     },
     "output_type": "display_data"
    }
   ],
   "source": [
    "m,c=fit(X_train,Y_train)\n",
    "print(m,c)\n",
    "Y_pred=predict(X_test,m,c)\n",
    "cd(Y_pred,Y_test)\n",
    "print(cost_func(X_test,Y_test,m,c))\n",
    "plt.scatter(X_test,Y_test)\n",
    "plt.plot(X_test,Y_pred,\"r\")\n",
    "plt.xlabel(\"XTEST\")\n",
    "plt.ylabel(\"Y\")\n",
    "#plt.axis([0,100,0,100])\n",
    "plt.show()\n",
    "    "
   ]
  }
 ],
 "metadata": {
  "kernelspec": {
   "display_name": "Python 3",
   "language": "python",
   "name": "python3"
  },
  "language_info": {
   "codemirror_mode": {
    "name": "ipython",
    "version": 3
   },
   "file_extension": ".py",
   "mimetype": "text/x-python",
   "name": "python",
   "nbconvert_exporter": "python",
   "pygments_lexer": "ipython3",
   "version": "3.8.8"
  }
 },
 "nbformat": 4,
 "nbformat_minor": 5
}
